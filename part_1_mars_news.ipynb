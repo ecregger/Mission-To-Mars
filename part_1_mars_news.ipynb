{
 "cells": [
  {
   "cell_type": "markdown",
   "metadata": {},
   "source": [
    "# Module 12 Challenge\n",
    "## Deliverable 1: Scrape Titles and Preview Text from Mars News"
   ]
  },
  {
   "cell_type": "code",
   "execution_count": 1,
   "metadata": {},
   "outputs": [],
   "source": [
    "# Import Splinter and BeautifulSoup\n",
    "from splinter import Browser\n",
    "from bs4 import BeautifulSoup as soup\n",
    "from webdriver_manager.chrome import ChromeDriverManager"
   ]
  },
  {
   "cell_type": "code",
   "execution_count": 2,
   "metadata": {
    "scrolled": true
   },
   "outputs": [],
   "source": [
    "executable_path = {'executable_path': ChromeDriverManager().install()}\n",
    "browser = Browser('chrome', **executable_path, headless=False)"
   ]
  },
  {
   "cell_type": "markdown",
   "metadata": {},
   "source": [
    "### Step 1: Visit the Website\n",
    "\n",
    "1. Use automated browsing to visit the [Mars NASA news site](https://redplanetscience.com). Inspect the page to identify which elements to scrape.\n",
    "\n",
    "      > **Hint** To identify which elements to scrape, you might want to inspect the page by using Chrome DevTools."
   ]
  },
  {
   "cell_type": "code",
   "execution_count": 3,
   "metadata": {},
   "outputs": [],
   "source": [
    "# Visit the Mars NASA news site: https://redplanetscience.com\n",
    "url = 'https://redplanetscience.com'\n",
    "browser.visit(url)"
   ]
  },
  {
   "cell_type": "markdown",
   "metadata": {},
   "source": [
    "### Step 2: Scrape the Website\n",
    "\n",
    "Create a Beautiful Soup object and use it to extract text elements from the website."
   ]
  },
  {
   "cell_type": "code",
   "execution_count": 4,
   "metadata": {},
   "outputs": [],
   "source": [
    "# Create a Beautiful Soup object\n",
    "html = browser.html\n",
    "soup = soup(html, 'html.parser')\n"
   ]
  },
  {
   "cell_type": "code",
   "execution_count": 5,
   "metadata": {},
   "outputs": [
    {
     "data": {
      "text/plain": [
       "[<div class=\"list_text\">\n",
       " <div class=\"list_date\">March 2, 2023</div>\n",
       " <div class=\"content_title\">A Martian Roundtrip: NASA's Perseverance Rover Sample Tubes</div>\n",
       " <div class=\"article_teaser_body\">Marvels of engineering, the rover's sample tubes must be tough enough to safely bring Red Planet samples on the long journey back to Earth in immaculate condition. </div>\n",
       " </div>,\n",
       " <div class=\"list_text\">\n",
       " <div class=\"list_date\">March 1, 2023</div>\n",
       " <div class=\"content_title\">Scientists Explore Outback as Testbed for Mars </div>\n",
       " <div class=\"article_teaser_body\">Australia provides a great place for NASA's Mars 2020 and the ESA-Roscosmos ExoMars scientists to hone techniques in preparation for searching for signs ancient life on Mars.</div>\n",
       " </div>,\n",
       " <div class=\"list_text\">\n",
       " <div class=\"list_date\">February 28, 2023</div>\n",
       " <div class=\"content_title\">NASA's MAVEN Observes Martian Night Sky Pulsing in Ultraviolet Light</div>\n",
       " <div class=\"article_teaser_body\">Vast areas of the Martian night sky pulse in ultraviolet light, according to images from NASA’s MAVEN spacecraft. The results are being used to illuminate complex circulation patterns in the Martian atmosphere.</div>\n",
       " </div>,\n",
       " <div class=\"list_text\">\n",
       " <div class=\"list_date\">February 26, 2023</div>\n",
       " <div class=\"content_title\">AI Is Helping Scientists Discover Fresh Craters on Mars</div>\n",
       " <div class=\"article_teaser_body\">It's the first time machine learning has been used to find previously unknown craters on the Red Planet.</div>\n",
       " </div>,\n",
       " <div class=\"list_text\">\n",
       " <div class=\"list_date\">February 24, 2023</div>\n",
       " <div class=\"content_title\">NASA Engineers Checking InSight's Weather Sensors</div>\n",
       " <div class=\"article_teaser_body\">An electronics issue is suspected to be preventing the sensors from sharing their data about Mars weather with the spacecraft.</div>\n",
       " </div>,\n",
       " <div class=\"list_text\">\n",
       " <div class=\"list_date\">February 13, 2023</div>\n",
       " <div class=\"content_title\">Naming a NASA Mars Rover Can Change Your Life</div>\n",
       " <div class=\"article_teaser_body\">Want to name the robotic scientist NASA is sending to Mars in 2020? The student who named Curiosity — the rover currently exploring Mars — will tell you this is an opportunity worth taking.</div>\n",
       " </div>,\n",
       " <div class=\"list_text\">\n",
       " <div class=\"list_date\">February 11, 2023</div>\n",
       " <div class=\"content_title\">NASA's New Mars Rover Is Ready for Space Lasers</div>\n",
       " <div class=\"article_teaser_body\">Perseverance is one of a few Mars spacecraft carrying laser retroreflectors. The devices could provide new science and safer Mars landings in the future.</div>\n",
       " </div>,\n",
       " <div class=\"list_text\">\n",
       " <div class=\"list_date\">February 10, 2023</div>\n",
       " <div class=\"content_title\">MOXIE Could Help Future Rockets Launch Off Mars</div>\n",
       " <div class=\"article_teaser_body\">NASA's Perseverance rover carries a device to convert Martian air into oxygen that, if produced on a larger scale, could be used not just for breathing, but also for fuel.</div>\n",
       " </div>,\n",
       " <div class=\"list_text\">\n",
       " <div class=\"list_date\">February 10, 2023</div>\n",
       " <div class=\"content_title\">NASA's Perseverance Rover 100 Days Out</div>\n",
       " <div class=\"article_teaser_body\">Mark your calendars: The agency's latest rover has only about 8,640,000 seconds to go before it touches down on the Red Planet, becoming history's next Mars car.</div>\n",
       " </div>,\n",
       " <div class=\"list_text\">\n",
       " <div class=\"list_date\">February 7, 2023</div>\n",
       " <div class=\"content_title\">Nine Finalists Chosen in NASA's Mars 2020 Rover Naming Contest</div>\n",
       " <div class=\"article_teaser_body\">Nine finalists have been chosen in the essay contest for K-12 students across U.S. to name NASA's next Mars rover. Now you can help by voting for your favorite. </div>\n",
       " </div>,\n",
       " <div class=\"list_text\">\n",
       " <div class=\"list_date\">February 7, 2023</div>\n",
       " <div class=\"content_title\">Newfound Martian Aurora Actually the Most Common; Sheds Light on Mars' Changing Climate</div>\n",
       " <div class=\"article_teaser_body\">A type of Martian aurora first identified by NASA’s MAVEN spacecraft in 2016 is actually the most common form of aurora occurring on the Red Planet, according to new results from the mission.</div>\n",
       " </div>,\n",
       " <div class=\"list_text\">\n",
       " <div class=\"list_date\">February 7, 2023</div>\n",
       " <div class=\"content_title\">NASA Invites Public to Share Excitement of Mars 2020 Perseverance Rover Launch</div>\n",
       " <div class=\"article_teaser_body\">There are lots of ways to participate in the historic event, which is targeted for July 30.</div>\n",
       " </div>,\n",
       " <div class=\"list_text\">\n",
       " <div class=\"list_date\">February 4, 2023</div>\n",
       " <div class=\"content_title\">NASA's MAVEN Explores Mars to Understand Radio Interference at Earth</div>\n",
       " <div class=\"article_teaser_body\">NASA’s MAVEN spacecraft has discovered “layers” and “rifts” in the electrically charged part of the upper atmosphere of Mars.</div>\n",
       " </div>,\n",
       " <div class=\"list_text\">\n",
       " <div class=\"list_date\">February 2, 2023</div>\n",
       " <div class=\"content_title\">The Detective Aboard NASA's Perseverance Rover</div>\n",
       " <div class=\"article_teaser_body\">An instrument called SHERLOC will, with the help of its partner WATSON, hunt for signs of ancient life by detecting organic molecules and minerals.</div>\n",
       " </div>,\n",
       " <div class=\"list_text\">\n",
       " <div class=\"list_date\">February 1, 2023</div>\n",
       " <div class=\"content_title\">10.9 Million Names Now Aboard NASA's Perseverance Mars Rover</div>\n",
       " <div class=\"article_teaser_body\">As part of NASA's 'Send Your Name to Mars' campaign, they've been stenciled onto three microchips along with essays from NASA's 'Name the Rover' contest. Next stop: Mars.</div>\n",
       " </div>]"
      ]
     },
     "execution_count": 5,
     "metadata": {},
     "output_type": "execute_result"
    }
   ],
   "source": [
    "# Extract all the text elements\n",
    "text = soup.find_all('div', class_='list_text')\n",
    "text"
   ]
  },
  {
   "cell_type": "markdown",
   "metadata": {},
   "source": [
    "### Step 3: Store the Results\n",
    "\n",
    "Extract the titles and preview text of the news articles that you scraped. Store the scraping results in Python data structures as follows:\n",
    "\n",
    "* Store each title-and-preview pair in a Python dictionary. And, give each dictionary two keys: `title` and `preview`. An example is the following:\n",
    "\n",
    "  ```python\n",
    "  {'title': \"Mars Rover Begins Mission!\", \n",
    "        'preview': \"NASA's Mars Rover begins a multiyear mission to collect data about the little-explored planet.\"}\n",
    "  ```\n",
    "\n",
    "* Store all the dictionaries in a Python list.\n",
    "\n",
    "* Print the list in your notebook."
   ]
  },
  {
   "cell_type": "code",
   "execution_count": 6,
   "metadata": {},
   "outputs": [],
   "source": [
    "# Create an empty list to store the dictionaries\n",
    "site_list = []"
   ]
  },
  {
   "cell_type": "code",
   "execution_count": 7,
   "metadata": {},
   "outputs": [],
   "source": [
    "# Loop through the text elements\n",
    "# Extract the title and preview text from the elements\n",
    "# Store each title and preview pair in a dictionary\n",
    "# Add the dictionary to the list\n",
    "\n",
    "for words in text:\n",
    "    title = words.find('div', class_='content_title').text\n",
    "    preview = words.find('div', class_='article_teaser_body').text\n",
    "\n",
    "    site_dict = {\n",
    "        \"title\": title,\n",
    "        \"preview\": preview\n",
    "    }\n",
    "    site_list.append(site_dict)"
   ]
  },
  {
   "cell_type": "code",
   "execution_count": 8,
   "metadata": {},
   "outputs": [
    {
     "data": {
      "text/plain": [
       "[{'title': \"A Martian Roundtrip: NASA's Perseverance Rover Sample Tubes\",\n",
       "  'preview': \"Marvels of engineering, the rover's sample tubes must be tough enough to safely bring Red Planet samples on the long journey back to Earth in immaculate condition. \"},\n",
       " {'title': 'Scientists Explore Outback as Testbed for Mars ',\n",
       "  'preview': \"Australia provides a great place for NASA's Mars 2020 and the ESA-Roscosmos ExoMars scientists to hone techniques in preparation for searching for signs ancient life on Mars.\"},\n",
       " {'title': \"NASA's MAVEN Observes Martian Night Sky Pulsing in Ultraviolet Light\",\n",
       "  'preview': 'Vast areas of the Martian night sky pulse in ultraviolet light, according to images from NASA’s MAVEN spacecraft. The results are being used to illuminate complex circulation patterns in the Martian atmosphere.'},\n",
       " {'title': 'AI Is Helping Scientists Discover Fresh Craters on Mars',\n",
       "  'preview': \"It's the first time machine learning has been used to find previously unknown craters on the Red Planet.\"},\n",
       " {'title': \"NASA Engineers Checking InSight's Weather Sensors\",\n",
       "  'preview': 'An electronics issue is suspected to be preventing the sensors from sharing their data about Mars weather with the spacecraft.'},\n",
       " {'title': 'Naming a NASA Mars Rover Can Change Your Life',\n",
       "  'preview': 'Want to name the robotic scientist NASA is sending to Mars in 2020? The student who named Curiosity — the rover currently exploring Mars — will tell you this is an opportunity worth taking.'},\n",
       " {'title': \"NASA's New Mars Rover Is Ready for Space Lasers\",\n",
       "  'preview': 'Perseverance is one of a few Mars spacecraft carrying laser retroreflectors. The devices could provide new science and safer Mars landings in the future.'},\n",
       " {'title': 'MOXIE Could Help Future Rockets Launch Off Mars',\n",
       "  'preview': \"NASA's Perseverance rover carries a device to convert Martian air into oxygen that, if produced on a larger scale, could be used not just for breathing, but also for fuel.\"},\n",
       " {'title': \"NASA's Perseverance Rover 100 Days Out\",\n",
       "  'preview': \"Mark your calendars: The agency's latest rover has only about 8,640,000 seconds to go before it touches down on the Red Planet, becoming history's next Mars car.\"},\n",
       " {'title': \"Nine Finalists Chosen in NASA's Mars 2020 Rover Naming Contest\",\n",
       "  'preview': \"Nine finalists have been chosen in the essay contest for K-12 students across U.S. to name NASA's next Mars rover. Now you can help by voting for your favorite. \"},\n",
       " {'title': \"Newfound Martian Aurora Actually the Most Common; Sheds Light on Mars' Changing Climate\",\n",
       "  'preview': 'A type of Martian aurora first identified by NASA’s MAVEN spacecraft in 2016 is actually the most common form of aurora occurring on the Red Planet, according to new results from the mission.'},\n",
       " {'title': 'NASA Invites Public to Share Excitement of Mars 2020 Perseverance Rover Launch',\n",
       "  'preview': 'There are lots of ways to participate in the historic event, which is targeted for July 30.'},\n",
       " {'title': \"NASA's MAVEN Explores Mars to Understand Radio Interference at Earth\",\n",
       "  'preview': 'NASA’s MAVEN spacecraft has discovered “layers” and “rifts” in the electrically charged part of the upper atmosphere of Mars.'},\n",
       " {'title': \"The Detective Aboard NASA's Perseverance Rover\",\n",
       "  'preview': 'An instrument called SHERLOC will, with the help of its partner WATSON, hunt for signs of ancient life by detecting organic molecules and minerals.'},\n",
       " {'title': \"10.9 Million Names Now Aboard NASA's Perseverance Mars Rover\",\n",
       "  'preview': \"As part of NASA's 'Send Your Name to Mars' campaign, they've been stenciled onto three microchips along with essays from NASA's 'Name the Rover' contest. Next stop: Mars.\"}]"
      ]
     },
     "execution_count": 8,
     "metadata": {},
     "output_type": "execute_result"
    }
   ],
   "source": [
    "# Print the list to confirm success\n",
    "site_list"
   ]
  },
  {
   "cell_type": "code",
   "execution_count": 9,
   "metadata": {},
   "outputs": [],
   "source": [
    "browser.quit()"
   ]
  },
  {
   "cell_type": "markdown",
   "metadata": {},
   "source": [
    "### (Optional) Step 4: Export the Data\n",
    "\n",
    "Optionally, store the scraped data in a file or database (to ease sharing the data with others). To do so, export the scraped data to either a JSON file or a MongoDB database."
   ]
  },
  {
   "cell_type": "code",
   "execution_count": 11,
   "metadata": {},
   "outputs": [
    {
     "name": "stdout",
     "output_type": "stream",
     "text": [
      "[\n",
      "  {\n",
      "    \"title\": \"A Martian Roundtrip: NASA's Perseverance Rover Sample Tubes\",\n",
      "    \"preview\": \"Marvels of engineering, the rover's sample tubes must be tough enough to safely bring Red Planet samples on the long journey back to Earth in immaculate condition. \"\n",
      "  },\n",
      "  {\n",
      "    \"title\": \"Scientists Explore Outback as Testbed for Mars \",\n",
      "    \"preview\": \"Australia provides a great place for NASA's Mars 2020 and the ESA-Roscosmos ExoMars scientists to hone techniques in preparation for searching for signs ancient life on Mars.\"\n",
      "  },\n",
      "  {\n",
      "    \"title\": \"NASA's MAVEN Observes Martian Night Sky Pulsing in Ultraviolet Light\",\n",
      "    \"preview\": \"Vast areas of the Martian night sky pulse in ultraviolet light, according to images from NASA\\u2019s MAVEN spacecraft. The results are being used to illuminate complex circulation patterns in the Martian atmosphere.\"\n",
      "  },\n",
      "  {\n",
      "    \"title\": \"AI Is Helping Scientists Discover Fresh Craters on Mars\",\n",
      "    \"preview\": \"It's the first time machine learning has been used to find previously unknown craters on the Red Planet.\"\n",
      "  },\n",
      "  {\n",
      "    \"title\": \"NASA Engineers Checking InSight's Weather Sensors\",\n",
      "    \"preview\": \"An electronics issue is suspected to be preventing the sensors from sharing their data about Mars weather with the spacecraft.\"\n",
      "  },\n",
      "  {\n",
      "    \"title\": \"Naming a NASA Mars Rover Can Change Your Life\",\n",
      "    \"preview\": \"Want to name the robotic scientist NASA is sending to Mars in 2020? The student who named Curiosity \\u2014 the rover currently exploring Mars \\u2014 will tell you this is an opportunity worth taking.\"\n",
      "  },\n",
      "  {\n",
      "    \"title\": \"NASA's New Mars Rover Is Ready for Space Lasers\",\n",
      "    \"preview\": \"Perseverance is one of a few Mars spacecraft carrying laser retroreflectors. The devices could provide new science and safer Mars landings in the future.\"\n",
      "  },\n",
      "  {\n",
      "    \"title\": \"MOXIE Could Help Future Rockets Launch Off Mars\",\n",
      "    \"preview\": \"NASA's Perseverance rover carries a device to convert Martian air into oxygen that, if produced on a larger scale, could be used not just for breathing, but also for fuel.\"\n",
      "  },\n",
      "  {\n",
      "    \"title\": \"NASA's Perseverance Rover 100 Days Out\",\n",
      "    \"preview\": \"Mark your calendars: The agency's latest rover has only about 8,640,000 seconds to go before it touches down on the Red Planet, becoming history's next Mars car.\"\n",
      "  },\n",
      "  {\n",
      "    \"title\": \"Nine Finalists Chosen in NASA's Mars 2020 Rover Naming Contest\",\n",
      "    \"preview\": \"Nine finalists have been chosen in the essay contest for K-12 students across U.S. to name NASA's next Mars rover. Now you can help by voting for your favorite. \"\n",
      "  },\n",
      "  {\n",
      "    \"title\": \"Newfound Martian Aurora Actually the Most Common; Sheds Light on Mars' Changing Climate\",\n",
      "    \"preview\": \"A type of Martian aurora first identified by NASA\\u2019s MAVEN spacecraft in 2016 is actually the most common form of aurora occurring on the Red Planet, according to new results from the mission.\"\n",
      "  },\n",
      "  {\n",
      "    \"title\": \"NASA Invites Public to Share Excitement of Mars 2020 Perseverance Rover Launch\",\n",
      "    \"preview\": \"There are lots of ways to participate in the historic event, which is targeted for July 30.\"\n",
      "  },\n",
      "  {\n",
      "    \"title\": \"NASA's MAVEN Explores Mars to Understand Radio Interference at Earth\",\n",
      "    \"preview\": \"NASA\\u2019s MAVEN spacecraft has discovered \\u201clayers\\u201d and \\u201crifts\\u201d in the electrically charged part of the upper atmosphere of Mars.\"\n",
      "  },\n",
      "  {\n",
      "    \"title\": \"The Detective Aboard NASA's Perseverance Rover\",\n",
      "    \"preview\": \"An instrument called SHERLOC will, with the help of its partner WATSON, hunt for signs of ancient life by detecting organic molecules and minerals.\"\n",
      "  },\n",
      "  {\n",
      "    \"title\": \"10.9 Million Names Now Aboard NASA's Perseverance Mars Rover\",\n",
      "    \"preview\": \"As part of NASA's 'Send Your Name to Mars' campaign, they've been stenciled onto three microchips along with essays from NASA's 'Name the Rover' contest. Next stop: Mars.\"\n",
      "  }\n",
      "]\n"
     ]
    }
   ],
   "source": [
    "# Export data to JSON\n",
    "import json\n",
    "export = json.dumps(site_list, indent=2)\n",
    "print(export)"
   ]
  }
 ],
 "metadata": {
  "kernelspec": {
   "display_name": "Python 3 (ipykernel)",
   "language": "python",
   "name": "python3"
  },
  "language_info": {
   "codemirror_mode": {
    "name": "ipython",
    "version": 3
   },
   "file_extension": ".py",
   "mimetype": "text/x-python",
   "name": "python",
   "nbconvert_exporter": "python",
   "pygments_lexer": "ipython3",
   "version": "3.10.8"
  }
 },
 "nbformat": 4,
 "nbformat_minor": 4
}
